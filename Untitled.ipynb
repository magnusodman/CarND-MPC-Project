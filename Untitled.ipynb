{
 "cells": [
  {
   "cell_type": "markdown",
   "metadata": {},
   "source": [
    "42\n",
    "\n",
    "[\"telemetry\",\n",
    "{\n",
    "\"ptsx\":[-32.16173,-43.49173,-61.09,-78.29172,-93.05002,-107.7717],\n",
    "\"ptsy\":[113.361,105.941,92.88499,78.73102,65.34102,50.57938],\"psi_unity\":4.12033,\"psi\":3.733651,\"x\":-40.62,\"y\":108.73,\"steering_angle\":0,\"throttle\":0,\"speed\":0}]\n"
   ]
  },
  {
   "cell_type": "code",
   "execution_count": 2,
   "metadata": {
    "collapsed": true
   },
   "outputs": [],
   "source": [
    "import matplotlib\n",
    "import numpy as np\n",
    "import matplotlib.pyplot as plt\n",
    "%matplotlib inline  \n",
    "\n"
   ]
  },
  {
   "cell_type": "code",
   "execution_count": 3,
   "metadata": {
    "collapsed": true
   },
   "outputs": [],
   "source": [
    "ptsx = [-32.16173,-43.49173,-61.09,-78.29172,-93.05002,-107.7717]\n",
    "ptsy = [113.361,105.941,92.88499,78.73102,65.34102,50.57938]\n",
    "\n",
    "psi = 3.733651\n",
    "x = -40.62\n",
    "y = 108.73"
   ]
  },
  {
   "cell_type": "code",
   "execution_count": 4,
   "metadata": {
    "collapsed": false
   },
   "outputs": [
    {
     "data": {
      "image/png": "[encoded data removed]",
      "text/plain": [
       "<matplotlib.figure.Figure at 0x1081c6fd0>"
      ]
     },
     "metadata": {},
     "output_type": "display_data"
    }
   ],
   "source": [
    "\n",
    "#ax = plt.axes()\n",
    "#ax.arrow(0, 0, 10.5, 10.5, head_width=0.05, head_length=0.1, fc='k', ec='k')\n",
    "#ax.plot(ptsx, ptsy)\n",
    "#plt.show()\n",
    "\n",
    "l = 5\n",
    "\n",
    "ax = plt.axes()\n",
    "ax.plot(ptsx, ptsy)\n",
    "xh = l * np.cos(psi)\n",
    "yh = l * np.sin(psi)\n",
    "plt.arrow(x, y, xh, yh, head_width=l/5, head_length=l/5, fc='k', ec='k')\n",
    "plt.show()\n",
    "\n"
   ]
  },
  {
   "cell_type": "code",
   "execution_count": 5,
   "metadata": {
    "collapsed": false
   },
   "outputs": [
    {
     "name": "stdout",
     "output_type": "stream",
     "text": [
      "[  3.31873438e-06  -1.97547218e-03   5.00596467e-01   1.31647621e+02]\n"
     ]
    }
   ],
   "source": [
    "#Let's polyfit\n",
    "\n",
    "pf = np.polyfit(ptsx, ptsy, 3)\n",
    "print(pf)\n"
   ]
  },
  {
   "cell_type": "code",
   "execution_count": 6,
   "metadata": {
    "collapsed": false
   },
   "outputs": [
    {
     "name": "stdout",
     "output_type": "stream",
     "text": [
      "107.83146431\n"
     ]
    }
   ],
   "source": [
    "pf_y = np.polyval(pf, x)\n",
    "print(pf_y)"
   ]
  },
  {
   "cell_type": "code",
   "execution_count": 9,
   "metadata": {
    "collapsed": false,
    "scrolled": true
   },
   "outputs": [
    {
     "name": "stdout",
     "output_type": "stream",
     "text": [
      "[-9.6030425908907553, 3.9394013722753431, 25.8285057832489, 48.001294252580237, 67.720199215706486, 88.174188550783555]\n",
      "[0.87753369760832456, 0.71166777432672013, 1.7243929090490013, 3.8695011146150975, 6.7442717046266019, 10.777657105571265]\n"
     ]
    },
    {
     "data": {
      "image/png": "[encoded data removed]",
      "text/plain": [
       "<matplotlib.figure.Figure at 0x1089f3470>"
      ]
     },
     "metadata": {},
     "output_type": "display_data"
    }
   ],
   "source": [
    "def transform(x_o, y_o, psi, x_w, y_w):\n",
    "    #translate\n",
    "    x_t = x_w - x_o\n",
    "    y_t = y_w - y_o\n",
    "    \n",
    "    #rotate\n",
    "    x_r = x_t * np.cos(-psi) - y_t*np.sin(-psi)\n",
    "    y_r = x_t * np.sin(-psi) + y_t*np.cos(-psi)\n",
    "    return x_r, y_r\n",
    "\n",
    "\n",
    "# convert waypoints to vehicle coordinastes\n",
    "ptsx_t = []\n",
    "ptsy_t = []\n",
    "\n",
    "for index in range(len(ptsx)):\n",
    "    xt, yt = transform(x, y, psi, ptsx[index], ptsy[index])\n",
    "    ptsx_t.append(xt)\n",
    "    ptsy_t.append(yt)\n",
    "\n",
    "print(ptsx_t)\n",
    "print(ptsy_t)\n",
    "\n",
    "ax = plt.axes()\n",
    "ax.plot(ptsx_t, ptsy_t)\n",
    "#xh = l * np.cos(psi)\n",
    "#yh = l * np.sin(psi)\n",
    "#plt.arrow(x, y, xh, yh, head_width=l/5, head_length=l/5, fc='k', ec='k')\n",
    "min_y = np.min(ptsy_t)\n",
    "plt.axis([-20, 100, -20, 100])\n",
    "plt.show()"
   ]
  },
  {
   "cell_type": "markdown",
   "metadata": {},
   "source": []
  },
  {
   "cell_type": "code",
   "execution_count": null,
   "metadata": {
    "collapsed": true
   },
   "outputs": [],
   "source": []
  }
 ],
 "metadata": {
  "anaconda-cloud": {},
  "kernelspec": {
   "display_name": "Python [default]",
   "language": "python",
   "name": "python3"
  },
  "language_info": {
   "codemirror_mode": {
    "name": "ipython",
    "version": 3
   },
   "file_extension": ".py",
   "mimetype": "text/x-python",
   "name": "python",
   "nbconvert_exporter": "python",
   "pygments_lexer": "ipython3",
   "version": "3.5.2"
  }
 },
 "nbformat": 4,
 "nbformat_minor": 1
}
